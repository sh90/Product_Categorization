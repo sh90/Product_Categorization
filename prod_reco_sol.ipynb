{
  "metadata": {
    "kernelspec": {
      "name": "python",
      "display_name": "Pyolite",
      "language": "python"
    },
    "language_info": {
      "codemirror_mode": {
        "name": "python",
        "version": 3
      },
      "file_extension": ".py",
      "mimetype": "text/x-python",
      "name": "python",
      "nbconvert_exporter": "python",
      "pygments_lexer": "ipython3",
      "version": "3.8"
    }
  },
  "nbformat_minor": 5,
  "nbformat": 4,
  "cells": [
    {
      "cell_type": "code",
      "source": "from sklearn.model_selection import train_test_split\nfrom sklearn.metrics import accuracy_score, average_precision_score\nfrom sklearn.feature_extraction.text import CountVectorizer\nfrom catboost import CatBoostClassifier\nimport pandas as pd\nimport numpy as np\n",
      "metadata": {
        "trusted": true
      },
      "execution_count": null,
      "outputs": [],
      "id": "25db8fb6-db06-44a6-bfd1-441fac251f2d"
    },
    {
      "cell_type": "markdown",
      "source": "#Read train and test data\n#Fill null values\n#Create new variable based on is signup",
      "metadata": {},
      "id": "d6acbaae-aa17-42a1-b6a6-bb1d0b8ef315"
    },
    {
      "cell_type": "code",
      "source": "data = pd.read_csv(r\"C:\\Users\\bunty\\Downloads\\train_wn75k28.csv\")\ndata['products_purchased'] = data['products_purchased'].fillna(0)\ndata[\"is_sign_up\"] = np.where(data[\"signup_date\"].isnull(),0,1)\n\ntest = pd.read_csv(r\"C:\\Users\\bunty\\Downloads\\test_Wf7sxXF.csv\")\ntest['products_purchased'] = test['products_purchased'].fillna(0)\ntest[\"is_sign_up\"] = np.where(test[\"signup_date\"].isnull(),0,1)",
      "metadata": {},
      "execution_count": 3,
      "outputs": [],
      "id": "2245dce0-71ee-407a-90c5-07426b0fd878"
    },
    {
      "cell_type": "markdown",
      "source": "#Train catboost classifier by using class weight parameter",
      "metadata": {},
      "id": "a62a2579-dcc2-470c-835f-186603c14c57"
    },
    {
      "cell_type": "code",
      "source": "model = CatBoostClassifier(max_depth=4, n_estimators=80000, class_weights=[2, 6]\n                           )\nmodel.fit(X_train, y_train)\n\n# make predictions for test data\n\ny_pred = model.predict(X_test)\npredictions = [round(value) for value in y_pred]\n\ny_submit = model.predict(X_submit)\nX_submit_id[\"buy\"] = y_submit\nX_submit_id.to_csv(\"Submission_catboost.csv\", index=False)",
      "metadata": {},
      "execution_count": null,
      "outputs": [],
      "id": "offensive-species"
    }
  ]
}
